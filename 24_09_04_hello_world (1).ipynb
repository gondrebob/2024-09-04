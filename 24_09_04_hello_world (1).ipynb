{
  "nbformat": 4,
  "nbformat_minor": 0,
  "metadata": {
    "colab": {
      "provenance": []
    },
    "kernelspec": {
      "name": "python3",
      "display_name": "Python 3"
    },
    "language_info": {
      "name": "python"
    }
  },
  "cells": [
    {
      "cell_type": "code",
      "execution_count": null,
      "metadata": {
        "id": "tUwindd7RORL"
      },
      "outputs": [],
      "source": [
        "print(\"Hello World!!\")"
      ]
    },
    {
      "cell_type": "code",
      "source": [
        "print(\"Hello Python\")\n"
      ],
      "metadata": {
        "id": "pikSOfmORe3Y"
      },
      "execution_count": null,
      "outputs": []
    },
    {
      "cell_type": "code",
      "source": [
        "print(\"Hello Google\")"
      ],
      "metadata": {
        "id": "SIiuZ7_-SyG0"
      },
      "execution_count": null,
      "outputs": []
    },
    {
      "cell_type": "code",
      "source": [
        "import pylab as by\n",
        "\n",
        "x_deg = by.arange(-180, 180+1)\n",
        "x_rad = by.deg2rad(x_deg)\n",
        "y = by.sin(x_rad)\n",
        "\n",
        "by.plot(x_deg, y)\n",
        "\n",
        "by.xlabel('x (deg)')\n",
        "by.ylabel('sin(x)')\n",
        "by.grid(True)\n"
      ],
      "metadata": {
        "id": "SswtnL6fZA6-"
      },
      "execution_count": null,
      "outputs": []
    },
    {
      "cell_type": "code",
      "source": [],
      "metadata": {
        "id": "2TyEB-mKfNNR"
      },
      "execution_count": null,
      "outputs": []
    }
  ]
}